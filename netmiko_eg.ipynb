{
 "cells": [
  {
   "cell_type": "code",
   "execution_count": 13,
   "metadata": {},
   "outputs": [],
   "source": [
    "from netmiko import ConnectHandler"
   ]
  },
  {
   "cell_type": "code",
   "execution_count": 14,
   "metadata": {},
   "outputs": [],
   "source": [
    "#create a device dictionary\n",
    "cisco_wlc_test={'device_type':'cisco_wlc', 'ip':'10.106.32.69','username':'admin','password':'cisco!123'}\n",
    "\n",
    "#calling the fn\n",
    "net_connect=ConnectHandler(**cisco_wlc_test)"
   ]
  },
  {
   "cell_type": "code",
   "execution_count": 15,
   "metadata": {},
   "outputs": [
    {
     "data": {
      "text/plain": [
       "'(Cisco Controller) >'"
      ]
     },
     "execution_count": 15,
     "metadata": {},
     "output_type": "execute_result"
    }
   ],
   "source": [
    "#verify ssh is established\n",
    "net_connect.find_prompt()"
   ]
  },
  {
   "cell_type": "code",
   "execution_count": 16,
   "metadata": {},
   "outputs": [
    {
     "name": "stdout",
     "output_type": "stream",
     "text": [
      "Number of Interfaces.......................... 5\n",
      "\n",
      "Interface Name                   Port Vlan Id  IP Address      Type    Ap Mgr Guest\n",
      "-------------------------------- ---- -------- --------------- ------- ------ -----\n",
      "management                       1    untagged 10.106.32.69    Static  Yes    No   \n",
      "redundancy-management            1    untagged 0.0.0.0         Static  No     No   \n",
      "redundancy-port                  -    untagged 0.0.0.0         Static  No     No   \n",
      "service-port                     N/A  N/A      0.0.0.0         DHCP    No     No   \n",
      "virtual                          N/A  N/A      1.1.1.1         Static  No     No   \n",
      "\n"
     ]
    }
   ],
   "source": [
    "#used to return output\n",
    "output=net_connect.send_command(\"show interface summary\")\n",
    "print(output)"
   ]
  },
  {
   "cell_type": "code",
   "execution_count": 24,
   "metadata": {},
   "outputs": [],
   "source": [
    "#configuring the wlc\n",
    "config_commands=['config wlan create 2 test test','config wlan enable 2']"
   ]
  },
  {
   "cell_type": "code",
   "execution_count": 25,
   "metadata": {},
   "outputs": [
    {
     "name": "stdout",
     "output_type": "stream",
     "text": [
      "config wlan create 2 test test\n",
      "\n",
      "\n",
      "(Cisco Controller) >config wlan enable 2\n",
      "\n",
      "\n",
      "(Cisco Controller) >\n"
     ]
    }
   ],
   "source": [
    "output1=net_connect.send_config_set(config_commands)\n",
    "print(output1)"
   ]
  },
  {
   "cell_type": "code",
   "execution_count": null,
   "metadata": {},
   "outputs": [],
   "source": []
  }
 ],
 "metadata": {
  "kernelspec": {
   "display_name": "Python 3",
   "language": "python",
   "name": "python3"
  },
  "language_info": {
   "codemirror_mode": {
    "name": "ipython",
    "version": 3
   },
   "file_extension": ".py",
   "mimetype": "text/x-python",
   "name": "python",
   "nbconvert_exporter": "python",
   "pygments_lexer": "ipython3",
   "version": "3.7.3"
  }
 },
 "nbformat": 4,
 "nbformat_minor": 2
}
